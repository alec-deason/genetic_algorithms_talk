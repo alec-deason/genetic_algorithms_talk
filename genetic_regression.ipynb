{
 "cells": [
  {
   "cell_type": "markdown",
   "metadata": {},
   "source": [
    "# The Problem\n",
    "Estimate the coefficients of a polynomial based of data points, ala linear regression."
   ]
  },
  {
   "cell_type": "code",
   "execution_count": null,
   "metadata": {},
   "outputs": [],
   "source": [
    "%matplotlib notebook\n",
    "\n",
    "import random\n",
    "from math import sqrt\n",
    "import matplotlib.pyplot as plt"
   ]
  },
  {
   "cell_type": "markdown",
   "metadata": {},
   "source": [
    "# Genetic Representation\n",
    "The genetic representation needs to afford breeding. Parents must have structures that can be meaningfully combined in some way that preserves useful properties of the parents' solution. The representation must also afford mutation. It must be perturbed between generations without just chaotically destroying the solution.\n",
    "\n",
    "In this model the representation is a list of numbers with each number (low degrees first for convenience even though that's not how polynomials would normally be written out) being one of the coefficients of the estimated polynomial the genome represents. This affords breeding because the coefficients in each parent can be aligned for crossover. It affords mutation because each number can be changed slightly and that will change the final curve smoothly. It suffers from a bit of trouble because the genes for the large coefficients are much more sensitive than the genes for the lower coefficients. As a result the system tends to converge on the high coefficients more quickly."
   ]
  },
  {
   "cell_type": "code",
   "execution_count": null,
   "metadata": {},
   "outputs": [],
   "source": [
    "def initial_population(size, degree):\n",
    "    \"\"\" Create the initial population. Each individual consists of random numbers selected from a large range.\n",
    "    Parameters\n",
    "    ----------\n",
    "    size: Number of individuals in the population\n",
    "    degree: Degree of the polynomial to estimate\n",
    "    \"\"\"\n",
    "    \n",
    "    population = []\n",
    "\n",
    "    for _ in range(size):\n",
    "        genome = []\n",
    "\n",
    "        for _ in range(degree + 1):\n",
    "            genome.append(random.uniform(-100, 100))\n",
    "\n",
    "        population.append(genome)\n",
    "\n",
    "    return population\n"
   ]
  },
  {
   "cell_type": "code",
   "execution_count": null,
   "metadata": {},
   "outputs": [],
   "source": [
    "def polynomial(x, coefficients):\n",
    "    \"\"\" Calculate the value of a polynomial\n",
    "    Parameters\n",
    "    ----------\n",
    "    x: Value to calculate for\n",
    "    coefficients: a list of coefficients with the low degrees first\n",
    "    \"\"\"\n",
    "    result = 0\n",
    "    for degree, coefficient in enumerate(coefficients):\n",
    "        result += coefficient * x**degree\n",
    "    return result\n",
    "\n"
   ]
  },
  {
   "cell_type": "markdown",
   "metadata": {},
   "source": [
    "# Breeding\n",
    "To produce the next generation we have to choose which individuals will breed. In this model the population is fixed size so there will always be as many children in the next generation as there are parents in the current. It uses two strategies for choosing parents. The simplest is called elitism. The best performing individual in the current population is simply copied into the next generation with no mutation or breeding. Then the bottom performing 2/3 of the current generation are removed and the remaining (including the original of the best individual) are randomly paired off and produce children. There are many other possible strategies.\n",
    "\n",
    "Producing children from parents has two steps. In crossover, the parents' genomes are aligned and then at each position in the genome a gene is selected from one parent or the other randomly and used in the child. In mutation, the new child has it's genes perturbed according to some mutation schedule."
   ]
  },
  {
   "cell_type": "code",
   "execution_count": null,
   "metadata": {},
   "outputs": [],
   "source": [
    "def crossover(a, b):\n",
    "    \"\"\" Crossover genes from parents to produce a child\n",
    "    Parameters\n",
    "    ----------\n",
    "    a: One parent\n",
    "    b: The other parent\n",
    "    \"\"\"\n",
    "    genome = []\n",
    "    for left, right in zip(a, b):\n",
    "        if random.random() < 0.5:\n",
    "            genome.append(left)\n",
    "        else:\n",
    "            genome.append(right)\n",
    "    return genome\n"
   ]
  },
  {
   "cell_type": "code",
   "execution_count": null,
   "metadata": {},
   "outputs": [],
   "source": [
    "def mutate(genome):\n",
    "    \"\"\" Perturb the genes in the genome\n",
    "    \"\"\"\n",
    "    genome = list(genome)\n",
    "    for i in range(len(genome)):\n",
    "        if random.random() < 0.9:\n",
    "            genome[i] += random.uniform(-0.5, 0.5)\n",
    "    return genome\n"
   ]
  },
  {
   "cell_type": "code",
   "execution_count": null,
   "metadata": {},
   "outputs": [],
   "source": [
    "def next_generation(current_generation, fitness):\n",
    "    junk_threshold = sorted(fitness)[int(len(fitness)*0.6)]\n",
    "    elite = sorted(zip(current_generation, fitness), key=lambda i: i[1])[-1][0]\n",
    "\n",
    "    breeding_population = {tuple(genome) for fitness, genome in zip(fitness, current_generation) if fitness > junk_threshold}\n",
    "\n",
    "    children = [elite]\n",
    "    while len(children) < len(current_generation):\n",
    "        a = random.choice(list(breeding_population))\n",
    "        b = random.choice(list(breeding_population - {a}))\n",
    "        child = crossover(a, b)\n",
    "        child = mutate(child)\n",
    "        children.append(child)\n",
    "\n",
    "    return children\n"
   ]
  },
  {
   "cell_type": "markdown",
   "metadata": {},
   "source": [
    "# The actual model\n",
    "The actual model is simply a loop. It takes a population, calculates a fitness measure which is simply the mean distance between each observed point and the estimate for that point, and uses that fitness to produce a new population and repeat."
   ]
  },
  {
   "cell_type": "code",
   "execution_count": null,
   "metadata": {},
   "outputs": [],
   "source": [
    "def calculate_fitness(data, genome):\n",
    "    error = 0\n",
    "    for x, y in data:\n",
    "        estimatee = polynomial(x, genome)\n",
    "        error += abs((y - estimate))\n",
    "    return -error / len(data)"
   ]
  },
  {
   "cell_type": "code",
   "execution_count": null,
   "metadata": {},
   "outputs": [],
   "source": [
    "def make_test_data(size, degree):\n",
    "    coefficients = [random.uniform(-3, 3) for _ in range(degree+1)]\n",
    "\n",
    "    data = []\n",
    "    while len(data) < size:\n",
    "        x = random.uniform(-5, 5)\n",
    "        y = polynomial(x, coefficients)\n",
    "        data.append((x, y))\n",
    "\n",
    "    return data, coefficients\n"
   ]
  },
  {
   "cell_type": "code",
   "execution_count": null,
   "metadata": {},
   "outputs": [],
   "source": [
    "degree = 5\n",
    "population = initial_population(100, degree)\n",
    "data, true_coefficients = make_test_data(50, degree)\n",
    "\n",
    "fig = plt.figure()\n",
    "ax = fig.add_subplot(111)\n",
    "plt.ion()\n",
    "fig.show()\n",
    "fig.canvas.draw()\n",
    "\n",
    "i = 0\n",
    "while True:\n",
    "   fitness = [calculate_fitness(data, genome) for genome in population]\n",
    "   by_fitness = [genome for genome, _ in sorted(zip(population, fitness), key=lambda i: i[1])]\n",
    "   xs = range(-10,10)\n",
    "   ys = [polynomial(x/2, true_coefficients) for x in xs]\n",
    "   ax.clear()\n",
    "   ax.set_title(f\"Generation {i}\")\n",
    "   ax.plot(xs, ys, color=(0.0, 0.0, 0.0, 1.0), label=\"truth\")\n",
    "   elite = by_fitness[-1]\n",
    "   ys = [polynomial(x/2, elite) for x in xs]\n",
    "   ax.plot(xs, ys, color=(1, 0.0, 0.0, 1.0), label=\"best estimate\")\n",
    "   for n in range(20):\n",
    "       genome = by_fitness[-(n+1)]\n",
    "       ys = [polynomial(x/2, genome) for x in xs]\n",
    "       ax.plot(xs, ys, color=(1, 0.0, 0.0, 0.09))\n",
    "   ax.legend()\n",
    "   fig.canvas.draw()\n",
    "   #print(f\"Generation {i} Mean Fitness {sum(fitness) / len(fitness)} Max Fitness {max(fitness)}\")\n",
    "   population = next_generation(population, fitness)\n",
    "   i += 1\n"
   ]
  }
 ],
 "metadata": {
  "kernelspec": {
   "display_name": "Python 3",
   "language": "python",
   "name": "python3"
  },
  "language_info": {
   "codemirror_mode": {
    "name": "ipython",
    "version": 3
   },
   "file_extension": ".py",
   "mimetype": "text/x-python",
   "name": "python",
   "nbconvert_exporter": "python",
   "pygments_lexer": "ipython3",
   "version": "3.7.0"
  }
 },
 "nbformat": 4,
 "nbformat_minor": 2
}
